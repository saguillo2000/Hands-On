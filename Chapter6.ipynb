{
 "cells": [
  {
   "cell_type": "markdown",
   "metadata": {},
   "source": [
    "# Decision Trees"
   ]
  },
  {
   "cell_type": "markdown",
   "metadata": {},
   "source": [
    "*Decision Trees* are versatile Machine Learning algorithms that can perform both classification and regression tasks. They are powerful algorithms, capable of fitting complex datasets."
   ]
  },
  {
   "cell_type": "markdown",
   "metadata": {},
   "source": [
    "## Training and Visualizing a Decision Tree"
   ]
  },
  {
   "cell_type": "code",
   "execution_count": 1,
   "metadata": {},
   "outputs": [
    {
     "data": {
      "text/plain": [
       "DecisionTreeClassifier(ccp_alpha=0.0, class_weight=None, criterion='gini',\n",
       "                       max_depth=2, max_features=None, max_leaf_nodes=None,\n",
       "                       min_impurity_decrease=0.0, min_impurity_split=None,\n",
       "                       min_samples_leaf=1, min_samples_split=2,\n",
       "                       min_weight_fraction_leaf=0.0, presort='deprecated',\n",
       "                       random_state=None, splitter='best')"
      ]
     },
     "execution_count": 1,
     "metadata": {},
     "output_type": "execute_result"
    }
   ],
   "source": [
    "from sklearn.datasets import load_iris\n",
    "from sklearn.tree import DecisionTreeClassifier\n",
    "\n",
    "iris = load_iris()\n",
    "X = iris.data[:, 2:] #petal length and width\n",
    "y = iris.target\n",
    "\n",
    "tree_clf = DecisionTreeClassifier(max_depth=2)\n",
    "tree_clf.fit(X, y)"
   ]
  },
  {
   "cell_type": "code",
   "execution_count": 2,
   "metadata": {},
   "outputs": [
    {
     "name": "stdout",
     "output_type": "stream",
     "text": [
      "Populating the interactive namespace from numpy and matplotlib\n"
     ]
    },
    {
     "data": {
      "image/png": "[encoded data removed]",
      "text/plain": [
       "<Figure size 432x288 with 1 Axes>"
      ]
     },
     "metadata": {
      "needs_background": "light"
     },
     "output_type": "display_data"
    }
   ],
   "source": [
    "from sklearn.tree import export_graphviz\n",
    "import os\n",
    "from graphviz import Source\n",
    "\n",
    "os.environ[\"PATH\"] += os.pathsep + 'D:\\Anaconda\\pkgs\\graphviz-2.38-hfd603c8_2\\Library\\bin'\n",
    "\n",
    "export_graphviz(\n",
    "        tree_clf,\n",
    "        out_file=\"iris_tree.dot\",\n",
    "        feature_names=iris.feature_names[2:],\n",
    "        class_names=iris.target_names,\n",
    "        rounded=True,\n",
    "        filled=True\n",
    "    )\n",
    "\n",
    "#To install Graphviz Prompt and: conda install python-graphviz\n",
    "#To convert use the script dot -Tpng iris_tree.dot -o name.png\n",
    "\n",
    "%pylab inline\n",
    "import matplotlib.pyplot as plt\n",
    "import matplotlib.image as mpimg\n",
    "img=mpimg.imread('iris_tree.png')\n",
    "imgplot = plt.imshow(img)\n",
    "plt.show()"
   ]
  },
  {
   "cell_type": "markdown",
   "metadata": {},
   "source": [
    "## Making Predictions"
   ]
  },
  {
   "cell_type": "markdown",
   "metadata": {},
   "source": [
    "One of the many qualities of Decision Trees is that they require very little data preparation. In fact, they don't require feature scaling or centering at all.\n",
    "\n",
    "Node's **Samples** attribute counts how many training instances it applies to.\n",
    "**Value** attribut tells you how many training instances of each class this node aplies to.\n",
    "**Gini** attribute measures its impurity: a nos is \"pure\" (gini=0) if all training insances it applies to belong to the same class.\n",
    "\n",
    "**Equation Gini impurity**\n",
    "\n",
    "$G_{i} = 1 - \\sum_{k=1}^{n} p_{i,k}{2}$\n",
    "\n",
    "- $p_{i,k}$ is the ratio of class k instances among the training instances of the $i^{th}$ node."
   ]
  },
  {
   "cell_type": "markdown",
   "metadata": {},
   "source": [
    "## Estimating Class Probabilites"
   ]
  },
  {
   "cell_type": "markdown",
   "metadata": {},
   "source": [
    "A Decision Tree can also estimate the probability that an instance belongs to a particular class *k*.First it traverses the tree to find the leaf node for this instance, and then it returns the ratio of training instances of class *k* in this node."
   ]
  },
  {
   "cell_type": "code",
   "execution_count": 3,
   "metadata": {},
   "outputs": [
    {
     "data": {
      "text/plain": [
       "array([[0.        , 0.90740741, 0.09259259]])"
      ]
     },
     "execution_count": 3,
     "metadata": {},
     "output_type": "execute_result"
    }
   ],
   "source": [
    "tree_clf.predict_proba([[5, 1.5]]) #Iris setosa, iris versicolor, iris virginica"
   ]
  },
  {
   "cell_type": "code",
   "execution_count": 4,
   "metadata": {},
   "outputs": [
    {
     "data": {
      "text/plain": [
       "array([1])"
      ]
     },
     "execution_count": 4,
     "metadata": {},
     "output_type": "execute_result"
    }
   ],
   "source": [
    "tree_clf.predict([[5,1.5]]) #iris versicolor"
   ]
  },
  {
   "cell_type": "markdown",
   "metadata": {},
   "source": [
    "## The CART Training Algorithm"
   ]
  },
  {
   "cell_type": "markdown",
   "metadata": {},
   "source": [
    "Scikit-Learn uses the *Classification and Regression Tree* (CART) algorithm to train Decision Trees (also called \"growing\" trees). The algorithm works by first splitting the training set into two subsets using a single feature *k* and a threshold $t_{k}$. How does it choose *k* and $t_{k}$? It seacrhes for the pair (k, $t_{k}$) that produces the purest subsets.\n",
    "\n",
    "**Equation CART cost function for classification**\n",
    "\n",
    "$J(k, t_{k}) = \\frac{m_{left}}{m}G_{left} + \\frac{m_{right}}{m}G_{right}$\n",
    "\n",
    "$where \\left\\{ \\begin{array}{lcc}\n",
    "             G_{left/right} \\mbox{measures the impurity of the left/right subset},\\\\\n",
    "             \\\\ m_{left/right} \\mbox{is the number of instances in the left/right subset}.\n",
    "             \\end{array}\n",
    "       \\right.$\n",
    "\n",
    "\n",
    "Finding the optimal tree is known to be an *NP-Complete* problem: it requires O(exp(m)) time, making the problem intractable even for small training sets. This is why we must settle for a \"reasonably good\" solution."
   ]
  },
  {
   "cell_type": "markdown",
   "metadata": {},
   "source": [
    "## Gini Impurity or Entropy?"
   ]
  },
  {
   "cell_type": "markdown",
   "metadata": {},
   "source": [
    "By default, the Gini impurity measure is used, but you can select the entropy impuritymeasure instead by setting the criterion hyperparameter to \"entropy\". In Machine Learning, entropy is frequently used as an impurity measure: a set's entropy is zero when it contains instances of only one class.\n",
    "\n",
    "Gini impurity is slightly faster to compute so it is a good default. However, when they differ, Gini impurity tends to isolate the most frequent class in its own branch of tree, while entropy tends to produce slightly more balanced trees."
   ]
  },
  {
   "cell_type": "markdown",
   "metadata": {},
   "source": [
    "## Regularization Hyperparameters"
   ]
  },
  {
   "cell_type": "markdown",
   "metadata": {},
   "source": [
    "The DecissionTreeClasifier class has other parameters that similarly restrict the shape of the Decision Tree: \n",
    "- min_samples_split (the minimum number of samples a node must have before it can be split)\n",
    "- min_samples_leaf (the minimum number of samples a leaf node must have)\n",
    "- min_wieght_fraction_leaf (same as min_samples_leaf but expressed as a fraction of the total number of weighted instances)\n",
    "- max_leaf_nodes (the maximum number of leaf nodes)\n",
    "- max_features (the maximum number of features that are evaluated for splitting at each node).\n",
    "\n",
    "Increasing min_* hyperparameter or reducing max_* hyperparameters will regularize the model."
   ]
  },
  {
   "cell_type": "markdown",
   "metadata": {},
   "source": [
    "## Regression"
   ]
  },
  {
   "cell_type": "code",
   "execution_count": 7,
   "metadata": {},
   "outputs": [
    {
     "data": {
      "image/png": "[encoded data removed]",
      "text/plain": [
       "<Figure size 432x288 with 1 Axes>"
      ]
     },
     "metadata": {
      "needs_background": "light"
     },
     "output_type": "display_data"
    }
   ],
   "source": [
    "from sklearn.tree import DecisionTreeRegressor\n",
    "\n",
    "tree_reg = DecisionTreeRegressor(max_depth=2)\n",
    "tree_reg.fit(X, y)\n",
    "\n",
    "export_graphviz(\n",
    "        tree_reg,\n",
    "        out_file=\"iris_reg.dot\",\n",
    "        feature_names=iris.feature_names[2:],\n",
    "        class_names=iris.target_names,\n",
    "        rounded=True,\n",
    "        filled=True\n",
    "    )\n",
    "img=mpimg.imread('name.png')\n",
    "imgplot = plt.imshow(img)\n",
    "plt.show()"
   ]
  },
  {
   "cell_type": "markdown",
   "metadata": {},
   "source": [
    "The CART algorithm works mostly the same way as earlier, except that instead of trying to split the training set in a way that minimizes impurity, it now tries to split the training set in a way that minimizes the MSE.\n",
    "\n",
    "**Equation CART cost function for regression**\n",
    "\n",
    "$J(k, t_{k}) = \\frac{m_{left}}{m}MSE_{left} + \\frac{m_{right}}{m}MSE_{right}$\n",
    "\n",
    "$where \\left\\{ \\begin{array}{lcc}\n",
    "             M_{left/right} = \\sum_{i \\epsilon node} (\\hat{y}_{node} - y^{(i)})^{2},\\\\\n",
    "             \\\\ \\hat{y}_{node} = \\frac{1}{m_{node}}\\sum_{i \\epsilon node}y^{(i)}.\n",
    "             \\end{array}\n",
    "       \\right.$\n"
   ]
  },
  {
   "cell_type": "markdown",
   "metadata": {},
   "source": [
    "## Instability"
   ]
  },
  {
   "cell_type": "markdown",
   "metadata": {},
   "source": [
    "Decision Trees have a few limitations, they love orthogonal decision boundaries which makes them sensitive to training set rotation. One way to limit this problem is to use Principal Component Analaysis(Chapter8), which often results in a better oritentation of the training data.\n",
    "\n",
    "Random Forests can limit this instability by averaging "
   ]
  }
 ],
 "metadata": {
  "kernelspec": {
   "display_name": "Python 3",
   "language": "python",
   "name": "python3"
  },
  "language_info": {
   "codemirror_mode": {
    "name": "ipython",
    "version": 3
   },
   "file_extension": ".py",
   "mimetype": "text/x-python",
   "name": "python",
   "nbconvert_exporter": "python",
   "pygments_lexer": "ipython3",
   "version": "3.7.6"
  }
 },
 "nbformat": 4,
 "nbformat_minor": 4
}
